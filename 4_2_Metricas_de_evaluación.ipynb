{
  "nbformat": 4,
  "nbformat_minor": 0,
  "metadata": {
    "colab": {
      "name": "4.2 Metricas de evaluación.ipynb",
      "provenance": []
    },
    "kernelspec": {
      "name": "python3",
      "display_name": "Python 3"
    },
    "language_info": {
      "name": "python"
    }
  },
  "cells": [
    {
      "cell_type": "markdown",
      "metadata": {
        "id": "Tvre_DX54l0F"
      },
      "source": [
        "![logo-universidad-tecnologica-de-tulancingo.webp](data:image/webp;base64,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)\n",
        "\n",
        "INGENIERÍA EN DESARROLLO Y GESTIÓN DE SOFTWARE\n",
        "\n",
        "MATERIA: EXTRACCIÓN DE CONOCIMIENTOS DE BASE DE DATOS\n",
        "\n",
        "NOMBRE DEL ALUMNO: VICTOR ALDAIR MARTINEZ GAYOSSO\n",
        "\n",
        "NOMBRE DEL DOCENTE: SALVADOR HERNÁNDEZ MENDOZA\n",
        "\n",
        "4.2 METRICAS DE EVALUACIÓN (TITANIC)\n",
        "\n",
        "CUATRIMESTRE: 9º\n",
        "\n",
        "GRUPO: IDGS-91\n",
        "\n",
        "FECHA: 04 DE DICIEMBRE DE 2021"
      ]
    },
    {
      "cell_type": "markdown",
      "metadata": {
        "id": "kUVhlPBO5vOV"
      },
      "source": [
        "# Importar librerias"
      ]
    },
    {
      "cell_type": "code",
      "metadata": {
        "id": "EYB-8Yqq5zWb"
      },
      "source": [
        "import pandas as pd\n",
        "import numpy as np\n",
        "import matplotlib.pyplot as plt\n",
        "\n",
        "from sklearn.linear_model import LogisticRegression\n",
        "\n",
        "from sklearn.model_selection import train_test_split\n",
        "\n",
        "from sklearn.metrics import accuracy_score, precision_score, recall_score, f1_score\n",
        "from sklearn.metrics import classification_report\n",
        "from sklearn.metrics import confusion_matrix\n",
        "from sklearn.metrics import plot_confusion_matrix\n",
        "\n",
        "pd.options.display.max_columns = 9"
      ],
      "execution_count": null,
      "outputs": []
    },
    {
      "cell_type": "markdown",
      "metadata": {
        "id": "r5Jtxuev7BfF"
      },
      "source": [
        "# Importar el dataset"
      ]
    },
    {
      "cell_type": "code",
      "metadata": {
        "id": "QfEec_NN7FqQ"
      },
      "source": [
        "dataframe = pd.read_csv('titanic.csv')"
      ],
      "execution_count": null,
      "outputs": []
    },
    {
      "cell_type": "markdown",
      "metadata": {
        "id": "QYq-OS797Uhc"
      },
      "source": [
        "# Analizar el dataframne"
      ]
    },
    {
      "cell_type": "code",
      "metadata": {
        "colab": {
          "base_uri": "https://localhost:8080/"
        },
        "id": "NCnLU2277Z_F",
        "outputId": "c1ee465a-e528-4e1f-aa55-6dc942720890"
      },
      "source": [
        "dataframe.info()"
      ],
      "execution_count": null,
      "outputs": [
        {
          "output_type": "stream",
          "name": "stdout",
          "text": [
            "<class 'pandas.core.frame.DataFrame'>\n",
            "RangeIndex: 887 entries, 0 to 886\n",
            "Data columns (total 7 columns):\n",
            " #   Column            Non-Null Count  Dtype  \n",
            "---  ------            --------------  -----  \n",
            " 0   Survived          887 non-null    int64  \n",
            " 1   Pclass            887 non-null    int64  \n",
            " 2   Sex               887 non-null    object \n",
            " 3   Age               887 non-null    float64\n",
            " 4   Siblings/Spouses  887 non-null    int64  \n",
            " 5   Parents/Children  887 non-null    int64  \n",
            " 6   Fare              887 non-null    float64\n",
            "dtypes: float64(2), int64(4), object(1)\n",
            "memory usage: 48.6+ KB\n"
          ]
        }
      ]
    },
    {
      "cell_type": "code",
      "metadata": {
        "colab": {
          "base_uri": "https://localhost:8080/",
          "height": 202
        },
        "id": "u5Tvo4cr7ugk",
        "outputId": "03ca0429-cde8-4cb8-efc6-25225b2f9078"
      },
      "source": [
        "dataframe.head()"
      ],
      "execution_count": null,
      "outputs": [
        {
          "output_type": "execute_result",
          "data": {
            "text/html": [
              "<div>\n",
              "<style scoped>\n",
              "    .dataframe tbody tr th:only-of-type {\n",
              "        vertical-align: middle;\n",
              "    }\n",
              "\n",
              "    .dataframe tbody tr th {\n",
              "        vertical-align: top;\n",
              "    }\n",
              "\n",
              "    .dataframe thead th {\n",
              "        text-align: right;\n",
              "    }\n",
              "</style>\n",
              "<table border=\"1\" class=\"dataframe\">\n",
              "  <thead>\n",
              "    <tr style=\"text-align: right;\">\n",
              "      <th></th>\n",
              "      <th>Survived</th>\n",
              "      <th>Pclass</th>\n",
              "      <th>Sex</th>\n",
              "      <th>Age</th>\n",
              "      <th>Siblings/Spouses</th>\n",
              "      <th>Parents/Children</th>\n",
              "      <th>Fare</th>\n",
              "    </tr>\n",
              "  </thead>\n",
              "  <tbody>\n",
              "    <tr>\n",
              "      <th>0</th>\n",
              "      <td>0</td>\n",
              "      <td>3</td>\n",
              "      <td>male</td>\n",
              "      <td>22.0</td>\n",
              "      <td>1</td>\n",
              "      <td>0</td>\n",
              "      <td>7.2500</td>\n",
              "    </tr>\n",
              "    <tr>\n",
              "      <th>1</th>\n",
              "      <td>1</td>\n",
              "      <td>1</td>\n",
              "      <td>female</td>\n",
              "      <td>38.0</td>\n",
              "      <td>1</td>\n",
              "      <td>0</td>\n",
              "      <td>71.2833</td>\n",
              "    </tr>\n",
              "    <tr>\n",
              "      <th>2</th>\n",
              "      <td>1</td>\n",
              "      <td>3</td>\n",
              "      <td>female</td>\n",
              "      <td>26.0</td>\n",
              "      <td>0</td>\n",
              "      <td>0</td>\n",
              "      <td>7.9250</td>\n",
              "    </tr>\n",
              "    <tr>\n",
              "      <th>3</th>\n",
              "      <td>1</td>\n",
              "      <td>1</td>\n",
              "      <td>female</td>\n",
              "      <td>35.0</td>\n",
              "      <td>1</td>\n",
              "      <td>0</td>\n",
              "      <td>53.1000</td>\n",
              "    </tr>\n",
              "    <tr>\n",
              "      <th>4</th>\n",
              "      <td>0</td>\n",
              "      <td>3</td>\n",
              "      <td>male</td>\n",
              "      <td>35.0</td>\n",
              "      <td>0</td>\n",
              "      <td>0</td>\n",
              "      <td>8.0500</td>\n",
              "    </tr>\n",
              "  </tbody>\n",
              "</table>\n",
              "</div>"
            ],
            "text/plain": [
              "   Survived  Pclass     Sex   Age  Siblings/Spouses  Parents/Children     Fare\n",
              "0         0       3    male  22.0                 1                 0   7.2500\n",
              "1         1       1  female  38.0                 1                 0  71.2833\n",
              "2         1       3  female  26.0                 0                 0   7.9250\n",
              "3         1       1  female  35.0                 1                 0  53.1000\n",
              "4         0       3    male  35.0                 0                 0   8.0500"
            ]
          },
          "metadata": {},
          "execution_count": 6
        }
      ]
    },
    {
      "cell_type": "code",
      "metadata": {
        "colab": {
          "base_uri": "https://localhost:8080/",
          "height": 294
        },
        "id": "4PZajGlG8zod",
        "outputId": "8bcf2a01-9e94-4437-9b8b-cccc2c327cbc"
      },
      "source": [
        "dataframe.describe()"
      ],
      "execution_count": null,
      "outputs": [
        {
          "output_type": "execute_result",
          "data": {
            "text/html": [
              "<div>\n",
              "<style scoped>\n",
              "    .dataframe tbody tr th:only-of-type {\n",
              "        vertical-align: middle;\n",
              "    }\n",
              "\n",
              "    .dataframe tbody tr th {\n",
              "        vertical-align: top;\n",
              "    }\n",
              "\n",
              "    .dataframe thead th {\n",
              "        text-align: right;\n",
              "    }\n",
              "</style>\n",
              "<table border=\"1\" class=\"dataframe\">\n",
              "  <thead>\n",
              "    <tr style=\"text-align: right;\">\n",
              "      <th></th>\n",
              "      <th>Survived</th>\n",
              "      <th>Pclass</th>\n",
              "      <th>Age</th>\n",
              "      <th>Siblings/Spouses</th>\n",
              "      <th>Parents/Children</th>\n",
              "      <th>Fare</th>\n",
              "    </tr>\n",
              "  </thead>\n",
              "  <tbody>\n",
              "    <tr>\n",
              "      <th>count</th>\n",
              "      <td>887.000000</td>\n",
              "      <td>887.000000</td>\n",
              "      <td>887.000000</td>\n",
              "      <td>887.000000</td>\n",
              "      <td>887.000000</td>\n",
              "      <td>887.00000</td>\n",
              "    </tr>\n",
              "    <tr>\n",
              "      <th>mean</th>\n",
              "      <td>0.385569</td>\n",
              "      <td>2.305524</td>\n",
              "      <td>29.471443</td>\n",
              "      <td>0.525366</td>\n",
              "      <td>0.383315</td>\n",
              "      <td>32.30542</td>\n",
              "    </tr>\n",
              "    <tr>\n",
              "      <th>std</th>\n",
              "      <td>0.487004</td>\n",
              "      <td>0.836662</td>\n",
              "      <td>14.121908</td>\n",
              "      <td>1.104669</td>\n",
              "      <td>0.807466</td>\n",
              "      <td>49.78204</td>\n",
              "    </tr>\n",
              "    <tr>\n",
              "      <th>min</th>\n",
              "      <td>0.000000</td>\n",
              "      <td>1.000000</td>\n",
              "      <td>0.420000</td>\n",
              "      <td>0.000000</td>\n",
              "      <td>0.000000</td>\n",
              "      <td>0.00000</td>\n",
              "    </tr>\n",
              "    <tr>\n",
              "      <th>25%</th>\n",
              "      <td>0.000000</td>\n",
              "      <td>2.000000</td>\n",
              "      <td>20.250000</td>\n",
              "      <td>0.000000</td>\n",
              "      <td>0.000000</td>\n",
              "      <td>7.92500</td>\n",
              "    </tr>\n",
              "    <tr>\n",
              "      <th>50%</th>\n",
              "      <td>0.000000</td>\n",
              "      <td>3.000000</td>\n",
              "      <td>28.000000</td>\n",
              "      <td>0.000000</td>\n",
              "      <td>0.000000</td>\n",
              "      <td>14.45420</td>\n",
              "    </tr>\n",
              "    <tr>\n",
              "      <th>75%</th>\n",
              "      <td>1.000000</td>\n",
              "      <td>3.000000</td>\n",
              "      <td>38.000000</td>\n",
              "      <td>1.000000</td>\n",
              "      <td>0.000000</td>\n",
              "      <td>31.13750</td>\n",
              "    </tr>\n",
              "    <tr>\n",
              "      <th>max</th>\n",
              "      <td>1.000000</td>\n",
              "      <td>3.000000</td>\n",
              "      <td>80.000000</td>\n",
              "      <td>8.000000</td>\n",
              "      <td>6.000000</td>\n",
              "      <td>512.32920</td>\n",
              "    </tr>\n",
              "  </tbody>\n",
              "</table>\n",
              "</div>"
            ],
            "text/plain": [
              "         Survived      Pclass         Age  Siblings/Spouses  Parents/Children  \\\n",
              "count  887.000000  887.000000  887.000000        887.000000        887.000000   \n",
              "mean     0.385569    2.305524   29.471443          0.525366          0.383315   \n",
              "std      0.487004    0.836662   14.121908          1.104669          0.807466   \n",
              "min      0.000000    1.000000    0.420000          0.000000          0.000000   \n",
              "25%      0.000000    2.000000   20.250000          0.000000          0.000000   \n",
              "50%      0.000000    3.000000   28.000000          0.000000          0.000000   \n",
              "75%      1.000000    3.000000   38.000000          1.000000          0.000000   \n",
              "max      1.000000    3.000000   80.000000          8.000000          6.000000   \n",
              "\n",
              "            Fare  \n",
              "count  887.00000  \n",
              "mean    32.30542  \n",
              "std     49.78204  \n",
              "min      0.00000  \n",
              "25%      7.92500  \n",
              "50%     14.45420  \n",
              "75%     31.13750  \n",
              "max    512.32920  "
            ]
          },
          "metadata": {},
          "execution_count": 9
        }
      ]
    },
    {
      "cell_type": "markdown",
      "metadata": {
        "id": "rsRhYqIb9E38"
      },
      "source": [
        "# Crear una columna (Feature Ingenering)"
      ]
    },
    {
      "cell_type": "code",
      "metadata": {
        "id": "OG6fJLDJ9MAY"
      },
      "source": [
        "dataframe['Male'] = dataframe['Sex'] == 'male'"
      ],
      "execution_count": null,
      "outputs": []
    },
    {
      "cell_type": "code",
      "metadata": {
        "colab": {
          "base_uri": "https://localhost:8080/",
          "height": 202
        },
        "id": "iVk9PxOl9sxd",
        "outputId": "97730cc0-ed67-4e0d-e6e9-e33f16e6fff2"
      },
      "source": [
        "dataframe.head()"
      ],
      "execution_count": null,
      "outputs": [
        {
          "output_type": "execute_result",
          "data": {
            "text/html": [
              "<div>\n",
              "<style scoped>\n",
              "    .dataframe tbody tr th:only-of-type {\n",
              "        vertical-align: middle;\n",
              "    }\n",
              "\n",
              "    .dataframe tbody tr th {\n",
              "        vertical-align: top;\n",
              "    }\n",
              "\n",
              "    .dataframe thead th {\n",
              "        text-align: right;\n",
              "    }\n",
              "</style>\n",
              "<table border=\"1\" class=\"dataframe\">\n",
              "  <thead>\n",
              "    <tr style=\"text-align: right;\">\n",
              "      <th></th>\n",
              "      <th>Survived</th>\n",
              "      <th>Pclass</th>\n",
              "      <th>Sex</th>\n",
              "      <th>Age</th>\n",
              "      <th>Siblings/Spouses</th>\n",
              "      <th>Parents/Children</th>\n",
              "      <th>Fare</th>\n",
              "      <th>Male</th>\n",
              "    </tr>\n",
              "  </thead>\n",
              "  <tbody>\n",
              "    <tr>\n",
              "      <th>0</th>\n",
              "      <td>0</td>\n",
              "      <td>3</td>\n",
              "      <td>male</td>\n",
              "      <td>22.0</td>\n",
              "      <td>1</td>\n",
              "      <td>0</td>\n",
              "      <td>7.2500</td>\n",
              "      <td>True</td>\n",
              "    </tr>\n",
              "    <tr>\n",
              "      <th>1</th>\n",
              "      <td>1</td>\n",
              "      <td>1</td>\n",
              "      <td>female</td>\n",
              "      <td>38.0</td>\n",
              "      <td>1</td>\n",
              "      <td>0</td>\n",
              "      <td>71.2833</td>\n",
              "      <td>False</td>\n",
              "    </tr>\n",
              "    <tr>\n",
              "      <th>2</th>\n",
              "      <td>1</td>\n",
              "      <td>3</td>\n",
              "      <td>female</td>\n",
              "      <td>26.0</td>\n",
              "      <td>0</td>\n",
              "      <td>0</td>\n",
              "      <td>7.9250</td>\n",
              "      <td>False</td>\n",
              "    </tr>\n",
              "    <tr>\n",
              "      <th>3</th>\n",
              "      <td>1</td>\n",
              "      <td>1</td>\n",
              "      <td>female</td>\n",
              "      <td>35.0</td>\n",
              "      <td>1</td>\n",
              "      <td>0</td>\n",
              "      <td>53.1000</td>\n",
              "      <td>False</td>\n",
              "    </tr>\n",
              "    <tr>\n",
              "      <th>4</th>\n",
              "      <td>0</td>\n",
              "      <td>3</td>\n",
              "      <td>male</td>\n",
              "      <td>35.0</td>\n",
              "      <td>0</td>\n",
              "      <td>0</td>\n",
              "      <td>8.0500</td>\n",
              "      <td>True</td>\n",
              "    </tr>\n",
              "  </tbody>\n",
              "</table>\n",
              "</div>"
            ],
            "text/plain": [
              "   Survived  Pclass     Sex   Age  Siblings/Spouses  Parents/Children  \\\n",
              "0         0       3    male  22.0                 1                 0   \n",
              "1         1       1  female  38.0                 1                 0   \n",
              "2         1       3  female  26.0                 0                 0   \n",
              "3         1       1  female  35.0                 1                 0   \n",
              "4         0       3    male  35.0                 0                 0   \n",
              "\n",
              "      Fare   Male  \n",
              "0   7.2500   True  \n",
              "1  71.2833  False  \n",
              "2   7.9250  False  \n",
              "3  53.1000  False  \n",
              "4   8.0500   True  "
            ]
          },
          "metadata": {},
          "execution_count": 13
        }
      ]
    },
    {
      "cell_type": "markdown",
      "metadata": {
        "id": "0VVj8xSH9-7M"
      },
      "source": [
        "# Scatter plot"
      ]
    },
    {
      "cell_type": "code",
      "metadata": {
        "colab": {
          "base_uri": "https://localhost:8080/",
          "height": 352
        },
        "id": "mVdqL3oV-NrW",
        "outputId": "86c00ba9-ce4f-463f-b59c-f6398f85c821"
      },
      "source": [
        "plt.figure(figsize=(8,5))\n",
        "plt.scatter(dataframe['Fare'], dataframe['Age'],c=dataframe['Age'],marker=\"x\")\n",
        "plt.xlabel('Fare')\n",
        "plt.ylabel('Age') "
      ],
      "execution_count": null,
      "outputs": [
        {
          "output_type": "execute_result",
          "data": {
            "text/plain": [
              "Text(0, 0.5, 'Age')"
            ]
          },
          "metadata": {},
          "execution_count": 21
        },
        {
          "output_type": "display_data",
          "data": {
            "image/png": "[encoded data removed]",
            "text/plain": [
              "<Figure size 576x360 with 1 Axes>"
            ]
          },
          "metadata": {
            "needs_background": "light"
          }
        }
      ]
    },
    {
      "cell_type": "markdown",
      "metadata": {
        "id": "UY1W5ILr_kS9"
      },
      "source": [
        "# Separar caracteriticas y objetivo"
      ]
    },
    {
      "cell_type": "code",
      "metadata": {
        "id": "eMqikf0u_o20"
      },
      "source": [
        "X = dataframe[['Pclass','Age','Siblings/Spouses','Parents/Children','Fare','Male']].values\n",
        "y = dataframe['Survived'].values"
      ],
      "execution_count": null,
      "outputs": []
    },
    {
      "cell_type": "code",
      "metadata": {
        "colab": {
          "base_uri": "https://localhost:8080/"
        },
        "id": "Lw_p3l6GAKpE",
        "outputId": "f7304358-fdac-4666-94d3-aa69e7869410"
      },
      "source": [
        "X"
      ],
      "execution_count": null,
      "outputs": [
        {
          "output_type": "execute_result",
          "data": {
            "text/plain": [
              "array([[3, 22.0, 1, 0, 7.25, True],\n",
              "       [1, 38.0, 1, 0, 71.2833, False],\n",
              "       [3, 26.0, 0, 0, 7.925, False],\n",
              "       ...,\n",
              "       [3, 7.0, 1, 2, 23.45, False],\n",
              "       [1, 26.0, 0, 0, 30.0, True],\n",
              "       [3, 32.0, 0, 0, 7.75, True]], dtype=object)"
            ]
          },
          "metadata": {},
          "execution_count": 43
        }
      ]
    },
    {
      "cell_type": "markdown",
      "metadata": {
        "id": "D4OdZRN0Aj2O"
      },
      "source": [
        "# Configurar el modelo"
      ]
    },
    {
      "cell_type": "code",
      "metadata": {
        "id": "Q1pBLLubAnqh"
      },
      "source": [
        "model = LogisticRegression()\n"
      ],
      "execution_count": null,
      "outputs": []
    },
    {
      "cell_type": "markdown",
      "metadata": {
        "id": "Pq--62npAr1k"
      },
      "source": [
        "# Dividir el train y test"
      ]
    },
    {
      "cell_type": "code",
      "metadata": {
        "id": "w0V5OupjAuYE"
      },
      "source": [
        "X_train, X_test, y_train, y_test = train_test_split(X,y, test_size=0.2, random_state=124)"
      ],
      "execution_count": null,
      "outputs": []
    },
    {
      "cell_type": "markdown",
      "metadata": {
        "id": "Pi3mLJIeBJ0M"
      },
      "source": [
        "# Entrenamineto "
      ]
    },
    {
      "cell_type": "code",
      "metadata": {
        "colab": {
          "base_uri": "https://localhost:8080/"
        },
        "id": "kgwmerOvBOGY",
        "outputId": "79588bf4-c499-4bc0-b94e-e25c011e6b94"
      },
      "source": [
        "model.fit(X_train,y_train)"
      ],
      "execution_count": null,
      "outputs": [
        {
          "output_type": "execute_result",
          "data": {
            "text/plain": [
              "LogisticRegression()"
            ]
          },
          "metadata": {},
          "execution_count": 46
        }
      ]
    },
    {
      "cell_type": "markdown",
      "metadata": {
        "id": "xIO-LMsnBTpm"
      },
      "source": [
        "# Predicciones"
      ]
    },
    {
      "cell_type": "code",
      "metadata": {
        "id": "LbvCBmK0BYKc"
      },
      "source": [
        "y_pred = model.predict(X_test)"
      ],
      "execution_count": null,
      "outputs": []
    },
    {
      "cell_type": "markdown",
      "metadata": {
        "id": "Z0qasYWTBiLE"
      },
      "source": [
        "# Analizar las predicciones"
      ]
    },
    {
      "cell_type": "code",
      "metadata": {
        "colab": {
          "base_uri": "https://localhost:8080/"
        },
        "id": "5WIvrqIbBlS7",
        "outputId": "29327a95-4f70-465d-ce08-3d118f21dfbd"
      },
      "source": [
        "X_test.shape"
      ],
      "execution_count": null,
      "outputs": [
        {
          "output_type": "execute_result",
          "data": {
            "text/plain": [
              "(178, 6)"
            ]
          },
          "metadata": {},
          "execution_count": 48
        }
      ]
    },
    {
      "cell_type": "code",
      "metadata": {
        "colab": {
          "base_uri": "https://localhost:8080/"
        },
        "id": "OR6m16a7Br2k",
        "outputId": "2abe3502-6a57-4c0b-bd5b-7d90cec8df07"
      },
      "source": [
        "X_test[:]"
      ],
      "execution_count": null,
      "outputs": [
        {
          "output_type": "execute_result",
          "data": {
            "text/plain": [
              "array([[3, 4.0, 4, 1, 29.125, True],\n",
              "       [3, 21.0, 0, 0, 7.925, True],\n",
              "       [1, 45.0, 0, 0, 26.55, True],\n",
              "       ...,\n",
              "       [2, 28.0, 0, 0, 13.5, True],\n",
              "       [3, 16.0, 0, 0, 7.7333, False],\n",
              "       [2, 50.0, 0, 0, 10.5, False]], dtype=object)"
            ]
          },
          "metadata": {},
          "execution_count": 49
        }
      ]
    },
    {
      "cell_type": "code",
      "metadata": {
        "colab": {
          "base_uri": "https://localhost:8080/"
        },
        "id": "57mRdZSICJJ2",
        "outputId": "7b40d509-6b52-4ffb-ba6b-2880d63b1a5e"
      },
      "source": [
        "y_test[:]"
      ],
      "execution_count": null,
      "outputs": [
        {
          "output_type": "execute_result",
          "data": {
            "text/plain": [
              "array([0, 0, 0, 1, 0, 0, 0, 1, 0, 0, 1, 1, 0, 0, 0, 0, 0, 1, 0, 1, 1, 0,\n",
              "       0, 1, 0, 0, 0, 0, 0, 0, 0, 0, 0, 1, 0, 0, 0, 0, 1, 0, 1, 0, 0, 0,\n",
              "       1, 1, 1, 0, 1, 1, 0, 1, 1, 0, 1, 0, 1, 1, 0, 1, 0, 0, 1, 0, 1, 0,\n",
              "       0, 0, 0, 1, 1, 1, 0, 0, 0, 0, 1, 0, 0, 0, 0, 0, 1, 0, 0, 0, 0, 0,\n",
              "       0, 1, 0, 1, 1, 0, 0, 1, 0, 0, 0, 1, 0, 0, 1, 0, 1, 0, 1, 0, 0, 0,\n",
              "       0, 0, 0, 0, 1, 0, 1, 0, 1, 1, 0, 1, 0, 0, 0, 0, 0, 0, 1, 0, 0, 0,\n",
              "       0, 1, 1, 0, 1, 0, 1, 1, 0, 0, 0, 0, 0, 1, 0, 1, 0, 0, 0, 1, 0, 0,\n",
              "       0, 1, 0, 0, 0, 1, 0, 1, 0, 0, 0, 0, 1, 0, 0, 0, 1, 0, 0, 1, 0, 0,\n",
              "       1, 1])"
            ]
          },
          "metadata": {},
          "execution_count": 52
        }
      ]
    },
    {
      "cell_type": "code",
      "metadata": {
        "colab": {
          "base_uri": "https://localhost:8080/"
        },
        "id": "GAfUZ7btCZjs",
        "outputId": "b663d454-edda-45a1-816c-5fe22d9dd96d"
      },
      "source": [
        "y_pred[:]"
      ],
      "execution_count": null,
      "outputs": [
        {
          "output_type": "execute_result",
          "data": {
            "text/plain": [
              "array([0, 0, 0, 1, 0, 0, 1, 1, 0, 0, 1, 1, 0, 0, 1, 0, 0, 0, 0, 0, 0, 0,\n",
              "       1, 1, 0, 1, 0, 0, 0, 0, 1, 1, 0, 1, 0, 0, 0, 0, 1, 0, 1, 0, 0, 0,\n",
              "       0, 0, 1, 0, 1, 1, 0, 1, 1, 0, 1, 0, 1, 1, 0, 0, 0, 0, 0, 0, 1, 0,\n",
              "       0, 0, 0, 1, 1, 0, 0, 0, 0, 1, 1, 1, 0, 1, 1, 0, 0, 1, 0, 0, 0, 0,\n",
              "       0, 0, 0, 0, 1, 0, 0, 0, 0, 0, 0, 1, 0, 0, 1, 0, 1, 1, 1, 0, 0, 0,\n",
              "       0, 0, 1, 0, 0, 0, 1, 0, 0, 0, 0, 1, 0, 0, 0, 0, 0, 1, 1, 0, 1, 0,\n",
              "       1, 0, 1, 0, 1, 0, 1, 0, 0, 0, 1, 0, 0, 1, 0, 1, 0, 0, 1, 1, 0, 0,\n",
              "       0, 1, 1, 0, 0, 1, 0, 0, 0, 0, 0, 0, 1, 0, 0, 0, 1, 0, 0, 1, 0, 0,\n",
              "       1, 1])"
            ]
          },
          "metadata": {},
          "execution_count": 54
        }
      ]
    },
    {
      "cell_type": "markdown",
      "metadata": {
        "id": "CoRwSo_KDMze"
      },
      "source": [
        "# Probabilidad"
      ]
    },
    {
      "cell_type": "code",
      "metadata": {
        "colab": {
          "base_uri": "https://localhost:8080/"
        },
        "id": "4WZ_WRC8DSo8",
        "outputId": "c5f48eba-7e2d-4949-e777-16db94c08776"
      },
      "source": [
        "model.predict_proba(X_test)[6,0]"
      ],
      "execution_count": null,
      "outputs": [
        {
          "output_type": "execute_result",
          "data": {
            "text/plain": [
              "0.43512149983433746"
            ]
          },
          "metadata": {},
          "execution_count": 55
        }
      ]
    },
    {
      "cell_type": "code",
      "metadata": {
        "colab": {
          "base_uri": "https://localhost:8080/"
        },
        "id": "N_C9eFSaDZgM",
        "outputId": "0457abe2-a720-4851-dce5-081bb302503f"
      },
      "source": [
        "model.predict_proba(X_test)[6,1]"
      ],
      "execution_count": null,
      "outputs": [
        {
          "output_type": "execute_result",
          "data": {
            "text/plain": [
              "0.5648785001656625"
            ]
          },
          "metadata": {},
          "execution_count": 56
        }
      ]
    },
    {
      "cell_type": "code",
      "metadata": {
        "colab": {
          "base_uri": "https://localhost:8080/"
        },
        "id": "f0iNKbtfDfRg",
        "outputId": "a45d0192-bfb3-4a18-dfbc-a036c15773fb"
      },
      "source": [
        "y.shape"
      ],
      "execution_count": null,
      "outputs": [
        {
          "output_type": "execute_result",
          "data": {
            "text/plain": [
              "(887,)"
            ]
          },
          "metadata": {},
          "execution_count": 57
        }
      ]
    },
    {
      "cell_type": "code",
      "metadata": {
        "colab": {
          "base_uri": "https://localhost:8080/"
        },
        "id": "d8jS392yDiXk",
        "outputId": "cb754cef-f5e8-41c2-b253-2d64a7307076"
      },
      "source": [
        "y.sum() # Sobrevivieron"
      ],
      "execution_count": null,
      "outputs": [
        {
          "output_type": "execute_result",
          "data": {
            "text/plain": [
              "342"
            ]
          },
          "metadata": {},
          "execution_count": 58
        }
      ]
    },
    {
      "cell_type": "code",
      "metadata": {
        "colab": {
          "base_uri": "https://localhost:8080/"
        },
        "id": "mQJ2GkcwD0mc",
        "outputId": "b42143f5-8c8d-4062-f0d1-e8bb700620d0"
      },
      "source": [
        "y.shape - y.sum() # No sobrevivieron"
      ],
      "execution_count": null,
      "outputs": [
        {
          "output_type": "execute_result",
          "data": {
            "text/plain": [
              "array([545])"
            ]
          },
          "metadata": {},
          "execution_count": 59
        }
      ]
    },
    {
      "cell_type": "markdown",
      "metadata": {
        "id": "Dnib2KZYECeF"
      },
      "source": [
        "99.9% datos son correos validos\n",
        "\n",
        "0.1% datos son correo spam\n",
        "\n",
        "accuracy del 99%"
      ]
    },
    {
      "cell_type": "markdown",
      "metadata": {
        "id": "pcPJpgsIEaur"
      },
      "source": [
        "# Metricas"
      ]
    },
    {
      "cell_type": "code",
      "metadata": {
        "colab": {
          "base_uri": "https://localhost:8080/"
        },
        "id": "CmBVPNiFEc16",
        "outputId": "3f9c5b00-27a9-4721-b0b6-19d43c7c3904"
      },
      "source": [
        "y_pred == y_test"
      ],
      "execution_count": null,
      "outputs": [
        {
          "output_type": "execute_result",
          "data": {
            "text/plain": [
              "array([ True,  True,  True,  True,  True,  True, False,  True,  True,\n",
              "        True,  True,  True,  True,  True, False,  True,  True, False,\n",
              "        True, False, False,  True, False,  True,  True, False,  True,\n",
              "        True,  True,  True, False, False,  True,  True,  True,  True,\n",
              "        True,  True,  True,  True,  True,  True,  True,  True, False,\n",
              "       False,  True,  True,  True,  True,  True,  True,  True,  True,\n",
              "        True,  True,  True,  True,  True, False,  True,  True, False,\n",
              "        True,  True,  True,  True,  True,  True,  True,  True, False,\n",
              "        True,  True,  True, False,  True, False,  True, False, False,\n",
              "        True, False, False,  True,  True,  True,  True,  True, False,\n",
              "        True, False,  True,  True,  True, False,  True,  True,  True,\n",
              "        True,  True,  True,  True,  True,  True, False,  True,  True,\n",
              "        True,  True,  True,  True, False,  True, False,  True,  True,\n",
              "        True, False, False,  True,  True,  True,  True,  True,  True,\n",
              "        True, False,  True,  True, False,  True, False, False,  True,\n",
              "        True,  True,  True,  True, False,  True,  True, False,  True,\n",
              "        True,  True,  True,  True,  True,  True, False,  True,  True,\n",
              "        True,  True,  True, False,  True,  True,  True,  True, False,\n",
              "        True,  True,  True,  True,  True,  True,  True,  True,  True,\n",
              "        True,  True,  True,  True,  True,  True,  True])"
            ]
          },
          "metadata": {},
          "execution_count": 60
        }
      ]
    },
    {
      "cell_type": "code",
      "metadata": {
        "colab": {
          "base_uri": "https://localhost:8080/",
          "height": 0
        },
        "id": "T-ksqFmoGmro",
        "outputId": "300d33d2-15f9-47d1-e8c3-f3b6d0a57b4f"
      },
      "source": [
        "(y_pred == y_test).sum()"
      ],
      "execution_count": 61,
      "outputs": [
        {
          "output_type": "execute_result",
          "data": {
            "text/plain": [
              "141"
            ]
          },
          "metadata": {},
          "execution_count": 61
        }
      ]
    },
    {
      "cell_type": "code",
      "metadata": {
        "colab": {
          "base_uri": "https://localhost:8080/",
          "height": 0
        },
        "id": "npCVvCQdG0sd",
        "outputId": "ae94fb76-690f-428c-e807-ca8738812286"
      },
      "source": [
        "y_test.shape"
      ],
      "execution_count": 62,
      "outputs": [
        {
          "output_type": "execute_result",
          "data": {
            "text/plain": [
              "(178,)"
            ]
          },
          "metadata": {},
          "execution_count": 62
        }
      ]
    },
    {
      "cell_type": "code",
      "metadata": {
        "colab": {
          "base_uri": "https://localhost:8080/",
          "height": 0
        },
        "id": "A6rFiQz8G6Gd",
        "outputId": "82ed7fa8-d207-4b3c-d6f1-a0f2262210eb"
      },
      "source": [
        "accuracy = (y_pred == y_test).sum() / y_test.shape\n",
        "accuracy"
      ],
      "execution_count": 64,
      "outputs": [
        {
          "output_type": "execute_result",
          "data": {
            "text/plain": [
              "array([0.79213483])"
            ]
          },
          "metadata": {},
          "execution_count": 64
        }
      ]
    },
    {
      "cell_type": "markdown",
      "metadata": {
        "id": "Jr1cVQH-QtDL"
      },
      "source": [
        "# Matriz de confusion "
      ]
    },
    {
      "cell_type": "code",
      "metadata": {
        "colab": {
          "base_uri": "https://localhost:8080/",
          "height": 0
        },
        "id": "ReM3k1gpQ0RP",
        "outputId": "cf37dabc-7875-4620-d7b9-53a606721e39"
      },
      "source": [
        "confusion_matrix(y_test,y_pred)"
      ],
      "execution_count": 67,
      "outputs": [
        {
          "output_type": "execute_result",
          "data": {
            "text/plain": [
              "array([[100,  19],\n",
              "       [ 18,  41]])"
            ]
          },
          "metadata": {},
          "execution_count": 67
        }
      ]
    },
    {
      "cell_type": "code",
      "metadata": {
        "colab": {
          "base_uri": "https://localhost:8080/",
          "height": 356
        },
        "id": "D_-zisV3Q-Ns",
        "outputId": "2c276a95-bc5e-4582-f019-6c983b567e91"
      },
      "source": [
        "plot_confusion_matrix(model,X_test,y_test)"
      ],
      "execution_count": 69,
      "outputs": [
        {
          "output_type": "stream",
          "name": "stderr",
          "text": [
            "/usr/local/lib/python3.7/dist-packages/sklearn/utils/deprecation.py:87: FutureWarning: Function plot_confusion_matrix is deprecated; Function `plot_confusion_matrix` is deprecated in 1.0 and will be removed in 1.2. Use one of the class methods: ConfusionMatrixDisplay.from_predictions or ConfusionMatrixDisplay.from_estimator.\n",
            "  warnings.warn(msg, category=FutureWarning)\n"
          ]
        },
        {
          "output_type": "execute_result",
          "data": {
            "text/plain": [
              "<sklearn.metrics._plot.confusion_matrix.ConfusionMatrixDisplay at 0x7f63ed69b450>"
            ]
          },
          "metadata": {},
          "execution_count": 69
        },
        {
          "output_type": "display_data",
          "data": {
            "image/png": "[encoded data removed]",
            "text/plain": [
              "<Figure size 432x288 with 2 Axes>"
            ]
          },
          "metadata": {
            "needs_background": "light"
          }
        }
      ]
    },
    {
      "cell_type": "code",
      "metadata": {
        "colab": {
          "base_uri": "https://localhost:8080/",
          "height": 0
        },
        "id": "LAI6RXHfRMAB",
        "outputId": "a409d6ce-9d5c-4e10-8897-0c6a9e025cf6"
      },
      "source": [
        "labels = [\"Not sobrevivio\", \"Sobrevivio\"]\n",
        "print(classification_report(y_test,y_pred))"
      ],
      "execution_count": 71,
      "outputs": [
        {
          "output_type": "stream",
          "name": "stdout",
          "text": [
            "              precision    recall  f1-score   support\n",
            "\n",
            "           0       0.85      0.84      0.84       119\n",
            "           1       0.68      0.69      0.69        59\n",
            "\n",
            "    accuracy                           0.79       178\n",
            "   macro avg       0.77      0.77      0.77       178\n",
            "weighted avg       0.79      0.79      0.79       178\n",
            "\n"
          ]
        }
      ]
    },
    {
      "cell_type": "markdown",
      "metadata": {
        "id": "Q-4MBateRrqa"
      },
      "source": [
        "# Acurracy de la matriz de confusion "
      ]
    },
    {
      "cell_type": "code",
      "metadata": {
        "colab": {
          "base_uri": "https://localhost:8080/",
          "height": 0
        },
        "id": "iJkPReTtSrzU",
        "outputId": "ee1b3417-e9cf-4a25-9a5c-26824da2cd28"
      },
      "source": [
        "accuracy = (95 + 50) / (95 + 50 + 15 + 18)\n",
        "accuracy"
      ],
      "execution_count": 73,
      "outputs": [
        {
          "output_type": "execute_result",
          "data": {
            "text/plain": [
              "0.8146067415730337"
            ]
          },
          "metadata": {},
          "execution_count": 73
        }
      ]
    },
    {
      "cell_type": "markdown",
      "metadata": {
        "id": "ct2VqzV-TI-6"
      },
      "source": [
        "# Precision"
      ]
    },
    {
      "cell_type": "code",
      "metadata": {
        "colab": {
          "base_uri": "https://localhost:8080/",
          "height": 0
        },
        "id": "tX6hQ1x4TOnt",
        "outputId": "9d37b174-4e9a-475c-cfe7-deabc6cbf38b"
      },
      "source": [
        "precision = 50 / (50 + 15)\n",
        "precision"
      ],
      "execution_count": 74,
      "outputs": [
        {
          "output_type": "execute_result",
          "data": {
            "text/plain": [
              "0.7692307692307693"
            ]
          },
          "metadata": {},
          "execution_count": 74
        }
      ]
    },
    {
      "cell_type": "markdown",
      "metadata": {
        "id": "liAt6ln_TWy0"
      },
      "source": [
        "# Recall"
      ]
    },
    {
      "cell_type": "code",
      "metadata": {
        "colab": {
          "base_uri": "https://localhost:8080/",
          "height": 0
        },
        "id": "PuENdUNqTZN_",
        "outputId": "750bd0da-554d-45d7-90b5-4493c933c2c6"
      },
      "source": [
        "recall = 50 / (50 + 18)\n",
        "recall"
      ],
      "execution_count": 75,
      "outputs": [
        {
          "output_type": "execute_result",
          "data": {
            "text/plain": [
              "0.7352941176470589"
            ]
          },
          "metadata": {},
          "execution_count": 75
        }
      ]
    },
    {
      "cell_type": "markdown",
      "metadata": {
        "id": "Pvxt6tHXTmJ4"
      },
      "source": [
        "# F1 Score"
      ]
    },
    {
      "cell_type": "code",
      "metadata": {
        "colab": {
          "base_uri": "https://localhost:8080/",
          "height": 0
        },
        "id": "9mlFHptDTpfN",
        "outputId": "60279e5e-965b-447e-f506-f55e4a97a23f"
      },
      "source": [
        "f1 = 2 * ((precision * recall) / (precision + recall))\n",
        "f1"
      ],
      "execution_count": 77,
      "outputs": [
        {
          "output_type": "execute_result",
          "data": {
            "text/plain": [
              "0.7518796992481205"
            ]
          },
          "metadata": {},
          "execution_count": 77
        }
      ]
    },
    {
      "cell_type": "markdown",
      "metadata": {
        "id": "SCS0Ge3sUAqh"
      },
      "source": [
        "# SKLearn Metrics"
      ]
    },
    {
      "cell_type": "code",
      "metadata": {
        "colab": {
          "base_uri": "https://localhost:8080/",
          "height": 0
        },
        "id": "er_dPYQ5UEp1",
        "outputId": "f4d29965-d9c6-4c62-9dd4-25ac471e8654"
      },
      "source": [
        "print(\"Acurracy: {} : {}\".format(accuracy,accuracy_score(y_test,y_pred)))"
      ],
      "execution_count": 79,
      "outputs": [
        {
          "output_type": "stream",
          "name": "stdout",
          "text": [
            "Acurracy: 0.8146067415730337 : 0.7921348314606742\n"
          ]
        }
      ]
    },
    {
      "cell_type": "code",
      "metadata": {
        "colab": {
          "base_uri": "https://localhost:8080/",
          "height": 0
        },
        "id": "dr0Qp2S1VA4Q",
        "outputId": "c13c76e2-7990-4e1e-e18f-19c9078a1ba4"
      },
      "source": [
        "print(\"Precision: {} : {}\".format(precision,precision_score(y_test,y_pred)))"
      ],
      "execution_count": 80,
      "outputs": [
        {
          "output_type": "stream",
          "name": "stdout",
          "text": [
            "Precision: 0.7692307692307693 : 0.6833333333333333\n"
          ]
        }
      ]
    },
    {
      "cell_type": "code",
      "metadata": {
        "colab": {
          "base_uri": "https://localhost:8080/",
          "height": 0
        },
        "id": "OHq8Xtj4VNed",
        "outputId": "f051033a-d8e3-4b8f-95d7-157738763e15"
      },
      "source": [
        "print(\"Recall: {} : {}\".format(recall,recall_score(y_test,y_pred)))"
      ],
      "execution_count": 81,
      "outputs": [
        {
          "output_type": "stream",
          "name": "stdout",
          "text": [
            "Recall: 0.7352941176470589 : 0.6949152542372882\n"
          ]
        }
      ]
    },
    {
      "cell_type": "code",
      "metadata": {
        "colab": {
          "base_uri": "https://localhost:8080/",
          "height": 0
        },
        "id": "VZLKSrvYVUTt",
        "outputId": "5954933f-70c5-4921-cf30-3e0b9238e641"
      },
      "source": [
        "print(\"F1 Score: {} : {}\".format(f1,f1_score(y_test,y_pred)))"
      ],
      "execution_count": 82,
      "outputs": [
        {
          "output_type": "stream",
          "name": "stdout",
          "text": [
            "F1 Score: 0.7518796992481205 : 0.6890756302521008\n"
          ]
        }
      ]
    },
    {
      "cell_type": "code",
      "metadata": {
        "colab": {
          "base_uri": "https://localhost:8080/",
          "height": 0
        },
        "id": "atGlRwVtVfO5",
        "outputId": "d8d55155-f9bf-4165-f842-41bd4b1732c5"
      },
      "source": [
        "print(classification_report(y_test,y_pred))"
      ],
      "execution_count": 83,
      "outputs": [
        {
          "output_type": "stream",
          "name": "stdout",
          "text": [
            "              precision    recall  f1-score   support\n",
            "\n",
            "           0       0.85      0.84      0.84       119\n",
            "           1       0.68      0.69      0.69        59\n",
            "\n",
            "    accuracy                           0.79       178\n",
            "   macro avg       0.77      0.77      0.77       178\n",
            "weighted avg       0.79      0.79      0.79       178\n",
            "\n"
          ]
        }
      ]
    },
    {
      "cell_type": "markdown",
      "metadata": {
        "id": "O84YNSi4VoOY"
      },
      "source": [
        "# Cambiar el umbral (Threshold)"
      ]
    },
    {
      "cell_type": "code",
      "metadata": {
        "id": "9oRNn8Z7Vy8d"
      },
      "source": [
        " y_pred = model.predict_proba(X_test)[:,1]"
      ],
      "execution_count": 97,
      "outputs": []
    },
    {
      "cell_type": "markdown",
      "metadata": {
        "id": "cu5qoYCGY5hY"
      },
      "source": [
        "\n",
        "# CONCLUSIÓN\n",
        "\n",
        "\n",
        "Como conclusión se deduce que Google Colab facilita aún el procesamiento de la información y el compartirla con tus colaboradores. Además, tienes a tu servicio la capacidad de cómputo de Google, por lo que, si estás utilizando un equipo con pocos recursos, esta es la herramienta ideal para desarrollar tus algoritmos.Así mismo lo visto en esta actividad fue de gran ayuda ya que vimos el cómo realizar una accuracy en la matriz de confusion, vimos es como sacar el precision,recall,f1 score y el cambio de umbral."
      ]
    }
  ]
}